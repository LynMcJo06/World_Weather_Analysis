{
 "cells": [
  {
   "cell_type": "code",
   "execution_count": 1,
   "id": "b012872b",
   "metadata": {},
   "outputs": [],
   "source": [
    "# Import the random module.\n",
    "import random"
   ]
  },
  {
   "cell_type": "code",
   "execution_count": 2,
   "id": "86b3d130",
   "metadata": {},
   "outputs": [
    {
     "data": {
      "text/plain": [
       "-84"
      ]
     },
     "execution_count": 2,
     "metadata": {},
     "output_type": "execute_result"
    }
   ],
   "source": [
    "# Creating a random number using the random integer function. \n",
    "random.randint(-90, 90)"
   ]
  },
  {
   "cell_type": "code",
   "execution_count": 3,
   "id": "227ad58a",
   "metadata": {},
   "outputs": [
    {
     "data": {
      "text/plain": [
       "0.018582560176218954"
      ]
     },
     "execution_count": 3,
     "metadata": {},
     "output_type": "execute_result"
    }
   ],
   "source": [
    "# Creating a random number using the random function, which only generates a decimal number.\n",
    "random.random()"
   ]
  },
  {
   "cell_type": "code",
   "execution_count": 5,
   "id": "09862fba",
   "metadata": {},
   "outputs": [
    {
     "data": {
      "text/plain": [
       "39"
      ]
     },
     "execution_count": 5,
     "metadata": {},
     "output_type": "execute_result"
    }
   ],
   "source": [
    "# Create a random number using the randrange function.\n",
    "random.randrange(-90, 90, step =1)"
   ]
  },
  {
   "cell_type": "code",
   "execution_count": 6,
   "id": "c2772daa",
   "metadata": {},
   "outputs": [
    {
     "data": {
      "text/plain": [
       "75"
      ]
     },
     "execution_count": 6,
     "metadata": {},
     "output_type": "execute_result"
    }
   ],
   "source": [
    "# Create a random number using the randrange function with a different step.\n",
    "random.randrange(-90, 90, step=3)"
   ]
  },
  {
   "cell_type": "code",
   "execution_count": 8,
   "id": "603727c4",
   "metadata": {},
   "outputs": [
    {
     "data": {
      "text/plain": [
       "-48.8182130017594"
      ]
     },
     "execution_count": 8,
     "metadata": {},
     "output_type": "execute_result"
    }
   ],
   "source": [
    "# Create a random number unsing the uniform function.\n",
    "random.uniform(-90, 90)"
   ]
  },
  {
   "cell_type": "code",
   "execution_count": 9,
   "id": "f283b5b6",
   "metadata": {},
   "outputs": [],
   "source": [
    "# Import the NumPy module.\n",
    "import numpy as np"
   ]
  },
  {
   "cell_type": "code",
   "execution_count": 10,
   "id": "c514d0ee",
   "metadata": {},
   "outputs": [
    {
     "data": {
      "text/plain": [
       "-89.91191339733193"
      ]
     },
     "execution_count": 10,
     "metadata": {},
     "output_type": "execute_result"
    }
   ],
   "source": [
    "# Generate a floating-point number.  \n",
    "np.random.uniform(-90.000, 90.000)"
   ]
  },
  {
   "cell_type": "code",
   "execution_count": 11,
   "id": "038a0405",
   "metadata": {},
   "outputs": [
    {
     "data": {
      "text/plain": [
       "array([ 1.34471012e+01,  4.13494291e+00,  1.00257883e+01, -1.29143369e+01,\n",
       "        6.94742559e+01,  4.66548576e-01,  8.32645155e+01, -1.84971439e+01,\n",
       "       -7.73598833e+01,  6.96672688e+01,  6.82339516e+01, -1.25762177e+01,\n",
       "       -6.78888893e+01, -2.48329348e+01,  3.05787690e+01,  7.91562745e+00,\n",
       "        2.14749210e+01,  3.53095603e+01,  8.17856063e+01,  3.56958286e+00,\n",
       "       -3.19027610e+00,  3.46323991e+01, -7.08537362e+01,  5.48145070e+01,\n",
       "        5.15529481e+01,  8.92350351e+01, -6.49809171e+01, -6.94643427e-02,\n",
       "       -3.42417811e+01, -8.44199181e+01,  2.39126266e+01,  2.05238843e+01,\n",
       "        4.49733963e+01, -6.21789768e+01, -8.83206853e+01, -2.76175913e+01,\n",
       "        2.91603207e+01,  6.62029781e+01,  8.66310398e+01,  1.34901738e+01,\n",
       "       -3.49243536e+01, -4.55178921e+01,  1.09625419e+01,  3.65387619e+01,\n",
       "       -1.53288688e+01,  5.40419255e+01,  7.26594921e+01, -4.59429565e+01,\n",
       "        3.60856408e+01, -5.56988135e+01])"
      ]
     },
     "execution_count": 11,
     "metadata": {},
     "output_type": "execute_result"
    }
   ],
   "source": [
    "# Generate more than one floating-point decimal number. \n",
    "np.random.uniform(-90.000, 90.000, size=50)"
   ]
  },
  {
   "cell_type": "code",
   "execution_count": 12,
   "id": "9a71c42d",
   "metadata": {},
   "outputs": [],
   "source": [
    "# Import timeit.\n",
    "import timeit"
   ]
  },
  {
   "cell_type": "code",
   "execution_count": 13,
   "id": "90aefe18",
   "metadata": {},
   "outputs": [
    {
     "name": "stdout",
     "output_type": "stream",
     "text": [
      "13 µs ± 16.7 ns per loop (mean ± std. dev. of 7 runs, 100000 loops each)\n"
     ]
    }
   ],
   "source": [
    "# Check the amount of time it takes to run the code.  This is faster.\n",
    "%timeit np.random.uniform(-90.000, 90.000, size=1500)"
   ]
  },
  {
   "cell_type": "code",
   "execution_count": 14,
   "id": "11b4dc18",
   "metadata": {},
   "outputs": [
    {
     "name": "stdout",
     "output_type": "stream",
     "text": [
      "1.69 ms ± 66.8 µs per loop (mean ± std. dev. of 7 runs, 1000 loops each)\n"
     ]
    }
   ],
   "source": [
    "# Run code using a while loop as a function.  \n",
    "def latitudes(size):\n",
    "    latitudes = []\n",
    "    x = 0\n",
    "    while x < (size):\n",
    "        random_lat = random.randint(-90, 90) + random.random()\n",
    "        latitudes.append(random_lat)\n",
    "        x += 1\n",
    "    return latitudes\n",
    "# Call the function with 1500.\n",
    "%timeit latitudes(1500)"
   ]
  },
  {
   "cell_type": "code",
   "execution_count": 15,
   "id": "6a509860",
   "metadata": {},
   "outputs": [
    {
     "name": "stdout",
     "output_type": "stream",
     "text": [
      "1.7 ms ± 75.3 µs per loop (mean ± std. dev. of 7 runs, 1000 loops each)\n"
     ]
    }
   ],
   "source": [
    "# Skill drill refactor the while loop code with the magictimeit command and\n",
    "# write a for loop that generates 1,500 latitudes.\n",
    "def latitudes_for_loop(size):\n",
    "    latitudes = []\n",
    "\n",
    "    for x in range(0, size):\n",
    "        random_lat = random.randint(-90, 90) + random.random()\n",
    "        latitudes.append(random_lat)\n",
    "\n",
    "    return latitudes\n",
    "# Call the function with 1500.\n",
    "%timeit latitudes_for_loop(1500)"
   ]
  },
  {
   "cell_type": "code",
   "execution_count": null,
   "id": "44d52627",
   "metadata": {},
   "outputs": [],
   "source": []
  }
 ],
 "metadata": {
  "kernelspec": {
   "display_name": "PythonData",
   "language": "python",
   "name": "pythondata"
  },
  "language_info": {
   "codemirror_mode": {
    "name": "ipython",
    "version": 3
   },
   "file_extension": ".py",
   "mimetype": "text/x-python",
   "name": "python",
   "nbconvert_exporter": "python",
   "pygments_lexer": "ipython3",
   "version": "3.7.10"
  }
 },
 "nbformat": 4,
 "nbformat_minor": 5
}
